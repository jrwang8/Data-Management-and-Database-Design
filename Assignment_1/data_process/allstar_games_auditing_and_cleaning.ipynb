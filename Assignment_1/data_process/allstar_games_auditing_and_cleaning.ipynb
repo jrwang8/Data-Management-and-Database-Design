{
 "cells": [
  {
   "cell_type": "code",
   "execution_count": 1,
   "metadata": {},
   "outputs": [],
   "source": [
    "import os\n",
    "import pandas as pd\n",
    "import seaborn as sns\n",
    "import numpy as np\n"
   ]
  },
  {
   "cell_type": "code",
   "execution_count": 2,
   "metadata": {
    "collapsed": false
   },
   "outputs": [
    {
     "name": "stdout",
     "output_type": "stream",
     "text": [
      "   Unnamed: 0        DATE WINNING_TEAM  WINNING_SCORE   LOSING_TEAM  \\\n0           1  02/18/2018  Team LeBron            148  Team Stephen   \n1           2  02/19/2017         West            192          East   \n2           3  02/14/2016         West            196          East   \n3           4  02/15/2015         West            163          East   \n4           5  02/16/2014         East            163          West   \n\n   LOSING_SCORE                                  VENUE                MVP  \n0           145        Staples Center, Los Angeles, CA       LeBron James  \n1           182  Smoothie King Center, New Orleans, LA      Anthony Davis  \n2           173             Air Canada Centre, Toronto  Russell Westbrook  \n3           158   Madison Square Garden, Manhattan, NY  Russell Westbrook  \n4           155  Smoothie King Center, New Orleans, LA       Kyrie Irving  \n"
     ]
    }
   ],
   "source": [
    "# Load the data\n",
    "file_path = '~/PycharmProjects/Data-Management-and-Database-Design/Assignment_1/scraper/raw_data/allstar_games.csv'\n",
    "allstar_games = pd.read_csv(file_path)\n",
    "print(allstar_games.head(5))"
   ]
  },
  {
   "cell_type": "markdown",
   "metadata": {},
   "source": [
    "Note that first column does not have any name. We will make this row into an unique ID for each game"
   ]
  },
  {
   "cell_type": "code",
   "execution_count": 3,
   "metadata": {},
   "outputs": [
    {
     "data": {
      "text/plain": [
       "Unnamed: 0        int64\nDATE             object\nWINNING_TEAM     object\nWINNING_SCORE     int64\nLOSING_TEAM      object\nLOSING_SCORE      int64\nVENUE            object\nMVP              object\ndtype: object"
      ]
     },
     "execution_count": 3,
     "metadata": {},
     "output_type": "execute_result"
    }
   ],
   "source": [
    "allstar_games.dtypes"
   ]
  },
  {
   "cell_type": "code",
   "execution_count": 4,
   "metadata": {},
   "outputs": [
    {
     "name": "stdout",
     "output_type": "stream",
     "text": [
      "Index(['GAME_ID', 'DATE', 'WINNING_TEAM', 'WINNING_SCORE', 'LOSING_TEAM',\n       'LOSING_SCORE', 'VENUE', 'MVP'],\n      dtype='object')\n"
     ]
    }
   ],
   "source": [
    "allstar_games.rename(columns = {allstar_games.columns[0]:'GAME_ID'}, inplace=True)\n",
    "print(allstar_games.columns)"
   ]
  },
  {
   "cell_type": "code",
   "execution_count": 5,
   "metadata": {
    "collapsed": false
   },
   "outputs": [
    {
     "name": "stdout",
     "output_type": "stream",
     "text": [
      "   GAME_ID        DATE WINNING_TEAM  WINNING_SCORE LOSING_TEAM  LOSING_SCORE  \\\n0        1  03/02/1951         East            111        West            94   \n1        2  02/11/1952         East            108        West            91   \n2        3  01/13/1953         West             79        East            75   \n3        4  01/21/1954         East             98        West            93   \n4        5  01/18/1955         East            100        West            91   \n\n                                               VENUE           MVP  \n0                          Boston Garden, Boston, MA   Ed Macauley  \n1                          Boston Garden, Boston, MA   Paul Arizin  \n2  Allen County War Memorial Coliseum, Fort Wayne...  George Mikan  \n3               Madison Square Garden, Manhattan, NY     Bob Cousy  \n4               Madison Square Garden, Manhattan, NY  Bill Sharman  \n"
     ]
    }
   ],
   "source": [
    "# Sort and edit th GAME_ID\n",
    "\n",
    "allstar_games = allstar_games.sort_values(by = ['GAME_ID'] , ascending = False)\n",
    "\n",
    "allstar_games = allstar_games.reset_index(drop=True)\n",
    "\n",
    "for i in range (0,allstar_games.shape[0]): \n",
    "    allstar_games.iat[i,0] = i+1\n",
    "    \n",
    "print(allstar_games.head())\n"
   ]
  },
  {
   "cell_type": "markdown",
   "metadata": {},
   "source": []
  },
  {
   "cell_type": "code",
   "execution_count": 6,
   "metadata": {},
   "outputs": [
    {
     "data": {
      "text/plain": [
       "GAME_ID          67\nDATE             67\nWINNING_TEAM     67\nWINNING_SCORE    67\nLOSING_TEAM      67\nLOSING_SCORE     67\nVENUE            67\nMVP              67\ndtype: int64"
      ]
     },
     "execution_count": 6,
     "metadata": {},
     "output_type": "execute_result"
    }
   ],
   "source": [
    "allstar_games.count()"
   ]
  },
  {
   "cell_type": "markdown",
   "metadata": {},
   "source": []
  },
  {
   "cell_type": "code",
   "execution_count": 7,
   "metadata": {},
   "outputs": [
    {
     "data": {
      "text/plain": [
       "GAME_ID          0\nDATE             0\nWINNING_TEAM     0\nWINNING_SCORE    0\nLOSING_TEAM      0\nLOSING_SCORE     0\nVENUE            0\nMVP              0\ndtype: int64"
      ]
     },
     "execution_count": 7,
     "metadata": {},
     "output_type": "execute_result"
    }
   ],
   "source": [
    "allstar_games.apply(lambda x: sum(x.isnull()),axis=0)"
   ]
  },
  {
   "cell_type": "markdown",
   "metadata": {},
   "source": [
    "Identify placeholder data"
   ]
  },
  {
   "cell_type": "code",
   "execution_count": 8,
   "metadata": {},
   "outputs": [
    {
     "name": "stdout",
     "output_type": "stream",
     "text": [
      "         GAME_ID  WINNING_SCORE  LOSING_SCORE\ncount  67.000000      67.000000     67.000000\nmean   34.000000     132.686567    122.014925\nstd    19.485037      20.053118     19.746494\nmin     1.000000      79.000000     75.000000\n25%    17.500000     122.500000    111.000000\n50%    34.000000     134.000000    120.000000\n75%    50.500000     143.500000    132.000000\nmax    67.000000     196.000000    182.000000\n"
     ]
    }
   ],
   "source": [
    "print(allstar_games.describe())"
   ]
  },
  {
   "cell_type": "markdown",
   "metadata": {},
   "source": []
  },
  {
   "cell_type": "code",
   "execution_count": 9,
   "metadata": {},
   "outputs": [
    {
     "name": "stdout",
     "output_type": "stream",
     "text": [
      "              DATE WINNING_TEAM LOSING_TEAM  \\\ncount           67           67          67   \nunique          67            3           3   \ntop     01/15/1974         East        West   \nfreq             1           37          37   \n\n                                       VENUE              MVP  \ncount                                     67               67  \nunique                                    48               51  \ntop     Madison Square Garden, Manhattan, NY  Oscar Robertson  \nfreq                                       5                3  \n"
     ]
    }
   ],
   "source": [
    "print(allstar_games.describe(include=[np.object]))"
   ]
  },
  {
   "cell_type": "code",
   "execution_count": 10,
   "metadata": {},
   "outputs": [
    {
     "data": {
      "image/png": "[encoded data removed]",
      "text/plain": [
       "<Figure size 432x288 with 1 Axes>"
      ]
     },
     "metadata": {},
     "output_type": "display_data"
    }
   ],
   "source": [
    "sns.boxplot(data=allstar_games)"
   ]
  },
  {
   "cell_type": "markdown",
   "metadata": {},
   "source": []
  },
  {
   "cell_type": "code",
   "execution_count": 11,
   "metadata": {},
   "outputs": [
    {
     "name": "stdout",
     "output_type": "stream",
     "text": [
      "    GAME_ID        DATE WINNING_TEAM  WINNING_SCORE LOSING_TEAM  LOSING_SCORE  \\\n64       65  02/14/2016         West            196        East           173   \n65       66  02/19/2017         West            192        East           182   \n\n                                    VENUE                MVP  \n64             Air Canada Centre, Toronto  Russell Westbrook  \n65  Smoothie King Center, New Orleans, LA      Anthony Davis  \n"
     ]
    }
   ],
   "source": [
    "print(allstar_games.loc[allstar_games['WINNING_SCORE'] > 175])"
   ]
  },
  {
   "cell_type": "markdown",
   "metadata": {},
   "source": []
  },
  {
   "cell_type": "code",
   "execution_count": 12,
   "metadata": {},
   "outputs": [
    {
     "name": "stdout",
     "output_type": "stream",
     "text": [
      "   GAME_ID        DATE WINNING_TEAM  WINNING_SCORE LOSING_TEAM  LOSING_SCORE  \\\n2        3  01/13/1953         West             79        East            75   \n3        4  01/21/1954         East             98        West            93   \n\n                                               VENUE           MVP  \n2  Allen County War Memorial Coliseum, Fort Wayne...  George Mikan  \n3               Madison Square Garden, Manhattan, NY     Bob Cousy  \n"
     ]
    }
   ],
   "source": [
    "print(allstar_games.loc[allstar_games['WINNING_SCORE'] < 100])"
   ]
  },
  {
   "cell_type": "markdown",
   "metadata": {},
   "source": []
  },
  {
   "cell_type": "code",
   "execution_count": 14,
   "metadata": {},
   "outputs": [
    {
     "data": {
      "text/plain": [
       "<matplotlib.axes._subplots.AxesSubplot at 0x7f636f0b4da0>"
      ]
     },
     "execution_count": 14,
     "metadata": {},
     "output_type": "execute_result"
    },
    {
     "data": {
      "image/png": "[encoded data removed]",
      "text/plain": [
       "<Figure size 432x288 with 1 Axes>"
      ]
     },
     "metadata": {},
     "output_type": "display_data"
    }
   ],
   "source": [
    "sns.distplot(allstar_games['WINNING_SCORE'])"
   ]
  },
  {
   "cell_type": "code",
   "execution_count": 15,
   "metadata": {},
   "outputs": [
    {
     "data": {
      "text/plain": [
       "<matplotlib.axes._subplots.AxesSubplot at 0x7f636efc7860>"
      ]
     },
     "execution_count": 15,
     "metadata": {},
     "output_type": "execute_result"
    },
    {
     "data": {
      "image/png": "[encoded data removed]",
      "text/plain": [
       "<Figure size 432x288 with 1 Axes>"
      ]
     },
     "metadata": {},
     "output_type": "display_data"
    }
   ],
   "source": [
    "sns.distplot(allstar_games['LOSING_SCORE'])"
   ]
  },
  {
   "cell_type": "markdown",
   "metadata": {},
   "source": []
  }
 ],
 "metadata": {},
 "nbformat": 4,
 "nbformat_minor": 0
}
