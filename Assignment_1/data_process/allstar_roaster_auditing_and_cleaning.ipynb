{
 "cells": [
  {
   "cell_type": "code",
   "execution_count": 1,
   "metadata": {
    "collapsed": true
   },
   "outputs": [],
   "source": [
    "import os\n",
    "import pandas as pd\n",
    "import seaborn as sns\n",
    "import numpy as np\n",
    "import matplotlib.pyplot as plt"
   ]
  },
  {
   "cell_type": "code",
   "execution_count": 2,
   "metadata": {},
   "outputs": [
    {
     "name": "stdout",
     "output_type": "stream",
     "text": [
      "   Unnamed: 0      FULL_NAME   STATUS POSITION    MIN  FGM-A FG3M-A FTM-A  \\\n0           0            NaN      NaN      NaN    NaN    NaN    NaN   NaN   \n1           1  Anthony Davis  Starter        C  16:40    6-9    0-1   0-0   \n2           2   Kevin Durant  Starter       PF  29:57   7-13    3-8   2-2   \n3           3   Kyrie Irving  Starter       PG  27:36   6-16    1-5   0-0   \n4           4   LeBron James  Starter       SF  31:17  12-17    4-8   1-1   \n\n    FIC  OREB  DREB   REB  AST   PF  STL  TOV  BLK   PTS    YEAR  \n0   NaN   NaN   NaN   NaN  NaN  NaN  NaN  NaN  NaN   NaN     NaN  \n1   6.0   1.0   1.0   2.0  1.0  2.0  0.0  1.0  0.0  12.0  2018.0  \n2  18.8   1.0   5.0   6.0  5.0  3.0  3.0  2.0  1.0  19.0  2018.0  \n3  14.8   2.0   5.0   7.0  9.0  2.0  1.0  1.0  0.0  13.0  2018.0  \n4  26.4   0.0  10.0  10.0  8.0  2.0  1.0  5.0  0.0  29.0  2018.0  \n"
     ]
    }
   ],
   "source": [
    "# Load the data\n",
    "file_path = '~/PycharmProjects/Data-Management-and-Database-Design/Assignment_1/scraper/raw_data/allstar_roaster.csv'\n",
    "allstar_roaster = pd.read_csv(file_path)\n",
    "print(allstar_roaster.head(5))"
   ]
  },
  {
   "cell_type": "code",
   "execution_count": 3,
   "metadata": {},
   "outputs": [
    {
     "name": "stdout",
     "output_type": "stream",
     "text": [
      "Index(['RECORD_ID', 'FULL_NAME', 'STATUS', 'POSITION', 'MIN', 'FGM-A',\n       'FG3M-A', 'FTM-A', 'FIC', 'OREB', 'DREB', 'REB', 'AST', 'PF', 'STL',\n       'TOV', 'BLK', 'PTS', 'YEAR'],\n      dtype='object')\n"
     ]
    }
   ],
   "source": [
    "allstar_roaster.rename(columns = {allstar_roaster.columns[0]:'RECORD_ID'}, inplace=True)\n",
    "print(allstar_roaster.columns)"
   ]
  },
  {
   "cell_type": "code",
   "execution_count": 4,
   "metadata": {},
   "outputs": [
    {
     "data": {
      "text/plain": [
       "RECORD_ID    1549\nFULL_NAME    1548\nSTATUS       1548\nPOSITION     1548\nMIN          1548\nFGM-A        1548\nFG3M-A       1548\nFTM-A        1548\nFIC          1548\nOREB         1548\nDREB         1548\nREB          1548\nAST          1548\nPF           1548\nSTL          1548\nTOV          1548\nBLK          1548\nPTS          1548\nYEAR         1548\ndtype: int64"
      ]
     },
     "execution_count": 4,
     "metadata": {},
     "output_type": "execute_result"
    }
   ],
   "source": [
    "\n",
    "allstar_roaster.count()"
   ]
  },
  {
   "cell_type": "code",
   "execution_count": 5,
   "metadata": {},
   "outputs": [
    {
     "data": {
      "text/plain": [
       "RECORD_ID    0\nFULL_NAME    1\nSTATUS       1\nPOSITION     1\nMIN          1\nFGM-A        1\nFG3M-A       1\nFTM-A        1\nFIC          1\nOREB         1\nDREB         1\nREB          1\nAST          1\nPF           1\nSTL          1\nTOV          1\nBLK          1\nPTS          1\nYEAR         1\ndtype: int64"
      ]
     },
     "execution_count": 5,
     "metadata": {},
     "output_type": "execute_result"
    }
   ],
   "source": [
    "allstar_roaster.apply(lambda x: sum(x.isnull()),axis=0)"
   ]
  },
  {
   "cell_type": "code",
   "execution_count": 6,
   "metadata": {},
   "outputs": [
    {
     "name": "stdout",
     "output_type": "stream",
     "text": [
      "   RECORD_ID FULL_NAME STATUS POSITION  MIN FGM-A FG3M-A FTM-A  FIC  OREB  \\\n0          0       NaN    NaN      NaN  NaN   NaN    NaN   NaN  NaN   NaN   \n\n   DREB  REB  AST  PF  STL  TOV  BLK  PTS  YEAR  \n0   NaN  NaN  NaN NaN  NaN  NaN  NaN  NaN   NaN  \n"
     ]
    }
   ],
   "source": [
    "\n",
    "print(allstar_roaster[allstar_roaster.isnull().any(axis=1)])"
   ]
  },
  {
   "cell_type": "code",
   "execution_count": 7,
   "metadata": {},
   "outputs": [
    {
     "name": "stdout",
     "output_type": "stream",
     "text": [
      "   RECORD_ID          FULL_NAME   STATUS POSITION    MIN  FGM-A FG3M-A FTM-A  \\\n1          1      Anthony Davis  Starter        C  16:40    6-9    0-1   0-0   \n2          2       Kevin Durant  Starter       PF  29:57   7-13    3-8   2-2   \n3          3       Kyrie Irving  Starter       PG  27:36   6-16    1-5   0-0   \n4          4       LeBron James  Starter       SF  31:17  12-17    4-8   1-1   \n5          5  Russell Westbrook  Starter       SG  28:28   4-11    1-6   2-3   \n\n    FIC  OREB  DREB   REB  AST   PF  STL  TOV  BLK   PTS    YEAR  \n1   6.0   1.0   1.0   2.0  1.0  2.0  0.0  1.0  0.0  12.0  2018.0  \n2  18.8   1.0   5.0   6.0  5.0  3.0  3.0  2.0  1.0  19.0  2018.0  \n3  14.8   2.0   5.0   7.0  9.0  2.0  1.0  1.0  0.0  13.0  2018.0  \n4  26.4   0.0  10.0  10.0  8.0  2.0  1.0  5.0  0.0  29.0  2018.0  \n5  13.4   3.0   5.0   8.0  8.0  2.0  0.0  2.0  0.0  11.0  2018.0  \n"
     ]
    }
   ],
   "source": [
    "allstar_roaster = allstar_roaster.drop(index=0)\n",
    "print(allstar_roaster.head(5))"
   ]
  },
  {
   "cell_type": "code",
   "execution_count": 8,
   "metadata": {},
   "outputs": [
    {
     "name": "stdout",
     "output_type": "stream",
     "text": [
      "   RECORD_ID      FULL_NAME   STATUS POSITION    MIN FGM-A FG3M-A FTM-A   FIC  \\\n0          1  Frankie Brian  Starter       SG  00:00  5-14    0-0   4-5   8.1   \n1          2    Paul Arizin  Starter       PG  00:00  7-12    0-0   1-2   9.5   \n2          3     Bob Davies  Starter       PG  00:00   4-6    0-0   5-5  13.9   \n3          4   Vince Boryla  Starter       SF  00:00   4-6    0-0   1-1   6.1   \n4          5     Alex Groza  Starter       PF  00:00  8-16    0-0   1-1  13.4   \n\n   OREB  DREB   REB  AST   PF  STL  TOV  BLK   PTS    YEAR  \n0   0.0   6.0   6.0  3.0  2.0  0.0  0.0  0.0  14.0  1951.0  \n1   0.0   7.0   7.0  0.0  2.0  0.0  0.0  0.0  15.0  1951.0  \n2   0.0   5.0   5.0  5.0  3.0  0.0  0.0  0.0  13.0  1951.0  \n3   0.0   2.0   2.0  2.0  3.0  0.0  0.0  0.0   9.0  1951.0  \n4   0.0  13.0  13.0  1.0  4.0  0.0  0.0  0.0  17.0  1951.0  \n"
     ]
    }
   ],
   "source": [
    "# Sort and edit th GAME_ID\n",
    "\n",
    "allstar_roaster = allstar_roaster.sort_values(by = ['YEAR','RECORD_ID'] , ascending = True)\n",
    "\n",
    "allstar_roaster = allstar_roaster.reset_index(drop=True)\n",
    "\n",
    "for i in range (0,allstar_roaster.shape[0]): \n",
    "    allstar_roaster.iat[i,0] = i+1\n",
    "    \n",
    "print(allstar_roaster.head())"
   ]
  },
  {
   "cell_type": "code",
   "execution_count": 9,
   "metadata": {},
   "outputs": [
    {
     "data": {
      "text/plain": [
       "RECORD_ID    0\nFULL_NAME    0\nSTATUS       0\nPOSITION     0\nMIN          0\nFGM-A        0\nFG3M-A       0\nFTM-A        0\nFIC          0\nOREB         0\nDREB         0\nREB          0\nAST          0\nPF           0\nSTL          0\nTOV          0\nBLK          0\nPTS          0\nYEAR         0\ndtype: int64"
      ]
     },
     "execution_count": 9,
     "metadata": {},
     "output_type": "execute_result"
    }
   ],
   "source": [
    "allstar_roaster.apply(lambda x: sum(x.isnull()),axis=0)"
   ]
  },
  {
   "cell_type": "code",
   "execution_count": 10,
   "metadata": {
    "collapsed": true
   },
   "outputs": [
    {
     "data": {
      "text/plain": [
       "RECORD_ID      int64\nFULL_NAME     object\nSTATUS        object\nPOSITION      object\nMIN           object\nFGM-A         object\nFG3M-A        object\nFTM-A         object\nFIC          float64\nOREB         float64\nDREB         float64\nREB          float64\nAST          float64\nPF           float64\nSTL          float64\nTOV          float64\nBLK          float64\nPTS          float64\nYEAR         float64\ndtype: object"
      ]
     },
     "execution_count": 10,
     "metadata": {},
     "output_type": "execute_result"
    }
   ],
   "source": [
    "\n",
    "allstar_roaster.dtypes"
   ]
  },
  {
   "cell_type": "code",
   "execution_count": 11,
   "metadata": {},
   "outputs": [],
   "source": [
    "allstar_roaster.OREB = allstar_roaster.OREB.astype(dtype='int64')\n",
    "allstar_roaster.DREB = allstar_roaster.DREB.astype(dtype='int64')\n",
    "allstar_roaster.REB = allstar_roaster.REB.astype(dtype='int64')\n",
    "allstar_roaster.AST = allstar_roaster.AST.astype(dtype='int64')\n",
    "allstar_roaster.PF = allstar_roaster.PF.astype(dtype='int64')\n",
    "allstar_roaster.STL = allstar_roaster.STL.astype(dtype='int64')\n",
    "allstar_roaster.TOV = allstar_roaster.TOV.astype(dtype='int64')\n",
    "allstar_roaster.BLK = allstar_roaster.BLK.astype(dtype='int64')\n",
    "allstar_roaster.PTS = allstar_roaster.PTS.astype(dtype='int64')\n",
    "allstar_roaster.YEAR = allstar_roaster.YEAR.astype(dtype='int64')"
   ]
  },
  {
   "cell_type": "code",
   "execution_count": 12,
   "metadata": {},
   "outputs": [
    {
     "name": "stdout",
     "output_type": "stream",
     "text": [
      "       RECORD_ID      FIC     OREB     DREB      REB      AST       PF  \\\ncount    1548.00  1548.00  1548.00  1548.00  1548.00  1548.00  1548.00   \nmean      774.50     8.73     1.04     3.85     4.88     2.66     1.79   \nstd       447.01     6.61     1.50     3.56     3.85     2.81     1.48   \nmin         1.00    -8.00     0.00     0.00     0.00     0.00     0.00   \n25%       387.75     4.00     0.00     1.00     2.00     1.00     1.00   \n50%       774.50     7.80     0.00     3.00     4.00     2.00     2.00   \n75%      1161.25    12.40     2.00     5.00     7.00     4.00     3.00   \nmax      1548.00    35.80    10.00    27.00    27.00    22.00     6.00   \n\n           STL      TOV      BLK      PTS     YEAR  \ncount  1548.00  1548.00  1548.00  1548.00  1548.00  \nmean      0.76     1.03     0.29    11.02  1985.21  \nstd       1.17     1.49     0.70     7.41    19.37  \nmin       0.00     0.00     0.00     0.00  1951.00  \n25%       0.00     0.00     0.00     6.00  1969.00  \n50%       0.00     0.00     0.00    10.00  1985.00  \n75%       1.00     2.00     0.00    15.00  2002.00  \nmax       8.00    12.00     6.00    52.00  2018.00  \n"
     ]
    }
   ],
   "source": [
    "print(allstar_roaster.describe().round(2))"
   ]
  },
  {
   "cell_type": "code",
   "execution_count": 13,
   "metadata": {
    "collapsed": false
   },
   "outputs": [
    {
     "name": "stdout",
     "output_type": "stream",
     "text": [
      "                  FULL_NAME STATUS POSITION    MIN FGM-A FG3M-A FTM-A\ncount                  1548   1548     1548   1548  1548   1548  1548\nunique                  411      2        5    211   185     58    73\ntop     Kareem Abdul-Jabbar  Bench       PF  22:00   2-4    0-0   0-0\nfreq                     18    879      317     81    41   1076   585\n"
     ]
    }
   ],
   "source": [
    "print(allstar_roaster.describe(include=[np.object]))"
   ]
  },
  {
   "cell_type": "code",
   "execution_count": 14,
   "metadata": {},
   "outputs": [
    {
     "data": {
      "text/plain": [
       "<matplotlib.axes._subplots.AxesSubplot at 0x7f8d30637400>"
      ]
     },
     "execution_count": 14,
     "metadata": {},
     "output_type": "execute_result"
    },
    {
     "data": {
      "image/png": "[encoded data removed]",
      "text/plain": [
       "<Figure size 432x288 with 1 Axes>"
      ]
     },
     "metadata": {},
     "output_type": "display_data"
    }
   ],
   "source": [
    "plot_data = allstar_roaster[allstar_roaster.columns[1:(allstar_roaster.shape[1]-1)]]\n",
    "sns.boxplot(data=plot_data)"
   ]
  },
  {
   "cell_type": "markdown",
   "metadata": {},
   "source": [
    "FIC (Floor Impact Counter): A formula to encompass all aspects of the box score into a single statistic. The intent of the statistic is similar to other efficiency stats, but assists, shot creation and offensive rebounding are given greater importance. Created by Chris Reina in 2007. \n",
    "Formula: (Points + ORB. + 0.75 DRB + AST + STL + BLK –0.75 FGA – 0.375 FTA – TO – 0.5 PF)\n"
   ]
  },
  {
   "cell_type": "code",
   "execution_count": 15,
   "metadata": {},
   "outputs": [
    {
     "name": "stdout",
     "output_type": "stream",
     "text": [
      "      RECORD_ID      FULL_NAME   STATUS POSITION    MIN  FGM-A FG3M-A FTM-A  \\\n1504       1505  Anthony Davis  Starter        C  31:50  26-39    0-4   0-0   \n\n       FIC  OREB  DREB  REB  AST  PF  STL  TOV  BLK  PTS  YEAR  \n1504  31.8     4     6   10    0   1    2    1    0   52  2017  \n"
     ]
    }
   ],
   "source": [
    "print(allstar_roaster.loc[allstar_roaster['PTS'] > 50])"
   ]
  },
  {
   "cell_type": "code",
   "execution_count": 56,
   "metadata": {
    "collapsed": false
   },
   "outputs": [
    {
     "name": "stdout",
     "output_type": "stream",
     "text": [
      "OREB\nDREB\nREB\nAST\nPF\nSTL\nTOV\nBLK\nPTS\n"
     ]
    },
    {
     "data": {
      "image/png": "[encoded data removed]",
      "text/plain": [
       "<Figure size 432x288 with 1 Axes>"
      ]
     },
     "metadata": {},
     "output_type": "display_data"
    },
    {
     "data": {
      "image/png": "[encoded data removed]",
      "text/plain": [
       "<Figure size 432x288 with 1 Axes>"
      ]
     },
     "metadata": {},
     "output_type": "display_data"
    },
    {
     "data": {
      "image/png": "[encoded data removed]",
      "text/plain": [
       "<Figure size 432x288 with 1 Axes>"
      ]
     },
     "metadata": {},
     "output_type": "display_data"
    },
    {
     "data": {
      "image/png": "[encoded data removed]",
      "text/plain": [
       "<Figure size 432x288 with 1 Axes>"
      ]
     },
     "metadata": {},
     "output_type": "display_data"
    },
    {
     "data": {
      "image/png": "[encoded data removed]",
      "text/plain": [
       "<Figure size 432x288 with 1 Axes>"
      ]
     },
     "metadata": {},
     "output_type": "display_data"
    },
    {
     "data": {
      "image/png": "[encoded data removed]",
      "text/plain": [
       "<Figure size 432x288 with 1 Axes>"
      ]
     },
     "metadata": {},
     "output_type": "display_data"
    },
    {
     "data": {
      "image/png": "[encoded data removed]",
      "text/plain": [
       "<Figure size 432x288 with 1 Axes>"
      ]
     },
     "metadata": {},
     "output_type": "display_data"
    },
    {
     "data": {
      "image/png": "[encoded data removed]",
      "text/plain": [
       "<Figure size 432x288 with 1 Axes>"
      ]
     },
     "metadata": {},
     "output_type": "display_data"
    },
    {
     "data": {
      "image/png": "[encoded data removed]",
      "text/plain": [
       "<Figure size 432x288 with 1 Axes>"
      ]
     },
     "metadata": {},
     "output_type": "display_data"
    },
    {
     "data": {
      "text/plain": [
       "<Figure size 432x288 with 0 Axes>"
      ]
     },
     "execution_count": 0,
     "metadata": {},
     "output_type": "execute_result"
    }
   ],
   "source": [
    "for i in range (1,(allstar_roaster.shape[1]-1)):\n",
    "    #j = 0\n",
    "    if allstar_roaster[allstar_roaster.columns[i]].dtype == 'int64' :\n",
    "       p = plt.hist(allstar_roaster[allstar_roaster.columns[i]], density=True)\n",
    "       plt.figure(i)\n",
    "       print(allstar_roaster.columns[i])"
   ]
  },
  {
   "cell_type": "code",
   "execution_count": 57,
   "metadata": {},
   "outputs": [
    {
     "name": "stdout",
     "output_type": "stream",
     "text": [
      "   Unnamed: 0        DATE WINNING_TEAM  WINNING_SCORE   LOSING_TEAM  \\\n0           1  02/18/2018  Team LeBron            148  Team Stephen   \n1           2  02/19/2017         West            192          East   \n2           3  02/14/2016         West            196          East   \n3           4  02/15/2015         West            163          East   \n4           5  02/16/2014         East            163          West   \n\n   LOSING_SCORE                                  VENUE                MVP  \n0           145        Staples Center, Los Angeles, CA       LeBron James  \n1           182  Smoothie King Center, New Orleans, LA      Anthony Davis  \n2           173             Air Canada Centre, Toronto  Russell Westbrook  \n3           158   Madison Square Garden, Manhattan, NY  Russell Westbrook  \n4           155  Smoothie King Center, New Orleans, LA       Kyrie Irving  \n"
     ]
    }
   ],
   "source": [
    "# Load the data\n",
    "file_path = '~/PycharmProjects/Data-Management-and-Database-Design/Assignment_1/scraper/raw_data/allstar_games.csv'\n",
    "allstar_games = pd.read_csv(file_path)\n",
    "print(allstar_games.head(5))"
   ]
  },
  {
   "cell_type": "code",
   "execution_count": 37,
   "metadata": {},
   "outputs": [
    {
     "data": {
      "text/plain": [
       "'DREB'"
      ]
     },
     "execution_count": 37,
     "metadata": {},
     "output_type": "execute_result"
    }
   ],
   "source": [
    "for i in range (0,allstar_roaster.shape[0]):\n",
    "    for allstar_roaster.columns['YEAR'] ==  pd.DatetimeIndex(allstar_games['DATE']).year"
   ]
  },
  {
   "cell_type": "code",
   "execution_count": null,
   "metadata": {},
   "outputs": [],
   "source": []
  }
 ],
 "metadata": {
  "kernelspec": {
   "display_name": "Python 2",
   "language": "python",
   "name": "python2"
  },
  "language_info": {
   "codemirror_mode": {
    "name": "ipython",
    "version": 2
   },
   "file_extension": ".py",
   "mimetype": "text/x-python",
   "name": "python",
   "nbconvert_exporter": "python",
   "pygments_lexer": "ipython2",
   "version": "2.7.6"
  }
 },
 "nbformat": 4,
 "nbformat_minor": 0
}
